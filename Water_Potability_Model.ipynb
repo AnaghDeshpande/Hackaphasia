{
 "cells": [
  {
   "cell_type": "code",
   "execution_count": null,
   "id": "4750ee8e",
   "metadata": {},
   "outputs": [],
   "source": [
    "\n",
    "import pandas as pd\n",
    "import seaborn as sns\n",
    "import matplotlib.pyplot as plt\n",
    "from sklearn.model_selection import train_test_split\n",
    "from sklearn.ensemble import RandomForestClassifier\n",
    "from sklearn.metrics import classification_report, confusion_matrix, accuracy_score\n",
    "from fpdf import FPDF\n"
   ]
  },
  {
   "cell_type": "code",
   "execution_count": null,
   "id": "4a4934ab",
   "metadata": {},
   "outputs": [],
   "source": [
    "\n",
    "# Load dataset\n",
    "file_path = 'water_potability-updated.csv'  # Replace with your file path if needed\n",
    "dataset = pd.read_csv(file_path)\n",
    "\n",
    "# Handle missing values and data types\n",
    "dataset = dataset.apply(pd.to_numeric, errors='coerce')\n",
    "dataset.fillna(dataset.mean(), inplace=True)\n"
   ]
  },
  {
   "cell_type": "code",
   "execution_count": null,
   "id": "8b1095c5",
   "metadata": {},
   "outputs": [],
   "source": [
    "\n",
    "# Add synthetic features\n",
    "dataset['Water_Hardness_Ratio'] = dataset['Hardness'] / dataset['Conductivity']\n",
    "dataset['Chloramine_Turbidity_Ratio'] = dataset['Chloramines'] / dataset['Turbidity']\n",
    "\n",
    "# Define features and target variable\n",
    "X = dataset.drop('Potability', axis=1)\n",
    "y = dataset['Potability']\n"
   ]
  },
  {
   "cell_type": "code",
   "execution_count": null,
   "id": "20f5b1c4",
   "metadata": {},
   "outputs": [],
   "source": [
    "\n",
    "# Train-test split\n",
    "X_train, X_test, y_train, y_test = train_test_split(X, y, test_size=0.3, random_state=42, stratify=y)\n",
    "\n",
    "# Train a Random Forest model\n",
    "model = RandomForestClassifier(random_state=42, n_estimators=100)\n",
    "model.fit(X_train, y_train)\n"
   ]
  },
  {
   "cell_type": "code",
   "execution_count": null,
   "id": "fbae3c69",
   "metadata": {},
   "outputs": [],
   "source": [
    "\n",
    "# Evaluate the model\n",
    "y_pred = model.predict(X_test)\n",
    "conf_matrix = confusion_matrix(y_test, y_pred)\n",
    "class_report = classification_report(y_test, y_pred)\n",
    "accuracy = accuracy_score(y_test, y_pred)\n",
    "\n",
    "print(\"Confusion Matrix:\\n\", conf_matrix)\n",
    "print(\"\\nClassification Report:\\n\", class_report)\n",
    "print(\"\\nAccuracy Score:\", accuracy)\n"
   ]
  },
  {
   "cell_type": "code",
   "execution_count": null,
   "id": "dfc173d5",
   "metadata": {},
   "outputs": [],
   "source": [
    "\n",
    "def predict_potability():\n",
    "    print(\"Enter the following water quality parameters:\")\n",
    "    user_data = {\n",
    "        \"ph\": float(input(\"pH: \")),\n",
    "        \"Hardness\": float(input(\"Hardness: \")),\n",
    "        \"Solids\": float(input(\"Solids: \")),\n",
    "        \"Chloramines\": float(input(\"Chloramines: \")),\n",
    "        \"Sulfate\": float(input(\"Sulfate: \")),\n",
    "        \"Conductivity\": float(input(\"Conductivity: \")),\n",
    "        \"Organic_carbon\": float(input(\"Organic Carbon: \")),\n",
    "        \"Trihalomethanes\": float(input(\"Trihalomethanes: \")),\n",
    "        \"Turbidity\": float(input(\"Turbidity: \")),\n",
    "    }\n",
    "    user_data[\"Water_Hardness_Ratio\"] = user_data[\"Hardness\"] / user_data[\"Conductivity\"]\n",
    "    user_data[\"Chloramine_Turbidity_Ratio\"] = user_data[\"Chloramines\"] / user_data[\"Turbidity\"]\n",
    "\n",
    "    # Prepare input for prediction\n",
    "    user_df = pd.DataFrame([user_data])\n",
    "    prediction = model.predict(user_df)[0]\n",
    "\n",
    "    print(\"\\nPrediction: Water is\", \"Potable\" if prediction == 1 else \"Not Potable\")\n"
   ]
  },
  {
   "cell_type": "code",
   "execution_count": null,
   "id": "7fef9fec",
   "metadata": {},
   "outputs": [],
   "source": [
    "\n",
    "class PDFReport(FPDF):\n",
    "    def header(self):\n",
    "        self.set_font('Arial', 'B', 12)\n",
    "        self.cell(0, 10, 'Water Potability Prediction Model Report', 0, 1, 'C')\n",
    "        self.ln(10)\n",
    "\n",
    "    def footer(self):\n",
    "        self.set_y(-15)\n",
    "        self.set_font('Arial', 'I', 8)\n",
    "        self.cell(0, 10, f'Page {self.page_no()}', 0, 0, 'C')\n",
    "\n",
    "    def add_content(self, title, content):\n",
    "        self.set_font('Arial', 'B', 12)\n",
    "        self.cell(0, 10, title, 0, 1)\n",
    "        self.ln(5)\n",
    "        self.set_font('Arial', '', 10)\n",
    "        self.multi_cell(0, 10, content)\n",
    "        self.ln(10)\n",
    "\n",
    "\n",
    "pdf = PDFReport()\n",
    "pdf.add_page()\n",
    "pdf.add_content(\"Model Evaluation Results\",\n",
    "                f\"Confusion Matrix:\\n{conf_matrix}\\n\\n\"\n",
    "                f\"Classification Report:\\n{class_report}\\n\\n\"\n",
    "                f\"Accuracy Score: {accuracy:.2f}\")\n",
    "pdf.add_content(\"Added Features\",\n",
    "                \"- Water Hardness Ratio: Hardness / Conductivity\\n\"\n",
    "                \"- Chloramine Turbidity Ratio: Chloramines / Turbidity\")\n",
    "pdf.add_content(\"How to Use the Model\",\n",
    "                \"You can input water quality parameters to predict whether the water is potable or not. \"\n",
    "                \"The model has been trained with high accuracy and considers multiple features influencing water quality.\")\n",
    "output_path = \"Water_Potability_Model_Report.pdf\"\n",
    "pdf.output(output_path)\n",
    "print(f\"PDF report generated and saved as {output_path}\")\n"
   ]
  }
 ],
 "metadata": {},
 "nbformat": 4,
 "nbformat_minor": 5
}